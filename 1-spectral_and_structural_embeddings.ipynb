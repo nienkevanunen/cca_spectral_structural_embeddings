{
 "cells": [
  {
   "cell_type": "markdown",
   "id": "1b9b6754",
   "metadata": {},
   "source": [
    "Steps performed in this notebook:\n",
    "\n",
    "**1. Load in spectral data:** The data from GNPS 24-04-09 all_positive is loaded in. It contains 187,152 spectra that are annotated with structures. They are filtered on unique inchikey, which \n",
    "\n",
    "**2. Create embeddings:** \n",
    "[Spec2Vec](https://github.com/iomega/spec2vec) and [MS2DeepScore](https://github.com/matchms/ms2deepscore) learn relationships between peaks as they create spectral embeddings. Within these embeddings, similar spectra are placed nearby each other in the latent space. This is also true for molecular embeddings, for example ones made with [Mol2Vec](https://github.com/samoturk/mol2vec).\n",
    "\n",
    "Data is saved to a file to be reused by other notebooks."
   ]
  },
  {
   "cell_type": "code",
   "execution_count": 22,
   "id": "d5824e29",
   "metadata": {},
   "outputs": [
    {
     "name": "stdout",
     "output_type": "stream",
     "text": [
      "/lustre/BIF/nobackup/unen004/thesis/cca\n",
      "Python 3.8.12\n"
     ]
    }
   ],
   "source": [
    "!pwd\n",
    "!python --version"
   ]
  },
  {
   "cell_type": "markdown",
   "id": "c2e7dc09",
   "metadata": {},
   "source": [
    "## 1. Load in spectral data\n",
    "GNPS 21-04-09 all positive"
   ]
  },
  {
   "cell_type": "code",
   "execution_count": 23,
   "id": "1c30f4e0",
   "metadata": {},
   "outputs": [
    {
     "name": "stdout",
     "output_type": "stream",
     "text": [
      "187152\n"
     ]
    }
   ],
   "source": [
    "import os \n",
    "import pickle\n",
    "import pandas as pd\n",
    "\n",
    "path = \"/mnt/LTR_userdata/hooft001/mass_spectral_embeddings\"\n",
    "dataset = \"ALL_GNPS_210409_positive\"\n",
    "\n",
    "# load spectra annotated with molecular structures\n",
    "spectra_fn = os.path.join(path, \"datasets\", dataset,\n",
    "                          \"ALL_GNPS_210409_positive_cleaned_peaks_processed_s2v_only_annotated.pickle\")\n",
    "with open(spectra_fn, \"rb\") as f:\n",
    "    all_spectrums = pickle.load(f)\n",
    "    \n",
    "print(len(all_spectrums))"
   ]
  },
  {
   "cell_type": "code",
   "execution_count": 24,
   "id": "1a4dcd70",
   "metadata": {},
   "outputs": [],
   "source": [
    "# Load in class info to merge into df later \n",
    "class_fn = os.path.join(path, \"classifications\", dataset,\n",
    "                       \"ALL_GNPS_210409_positive_cleaned_peaks_processed_s2v_only_annotated_classes.txt\")\n",
    "classes = pd.read_table(class_fn, sep = \"\\t\") #, on_bad_lines=\"skip\""
   ]
  },
  {
   "cell_type": "markdown",
   "id": "719dd9c9",
   "metadata": {},
   "source": [
    "### Filter on unique inchikey\n",
    "Function obtained from [Joris Louwen](https://github.com/louwenjjr/ms2_mass_differences/blob/ffd31aff66fba14502e3c7ec4f1b5eb947687ef1/scripts/mass_differences/processing.py)."
   ]
  },
  {
   "cell_type": "code",
   "execution_count": 25,
   "id": "2297cf4c",
   "metadata": {},
   "outputs": [],
   "source": [
    "from collections import OrderedDict\n",
    "import numpy as np\n",
    "\n",
    "def count_higher_peaks(spectrum, threshold = 0.1):\n",
    "    return np.sum(spectrum.peaks.intensities/spectrum.peaks.intensities.max() >= threshold)\n",
    "\n",
    "def get_ids_for_unique_inchikeys(spectrums): #: List[SpectrumType]\n",
    "    \"\"\"Return indices for best chosen spectra for each unique inchikey\n",
    "    Parameters\n",
    "    ----------\n",
    "    spectrums:\n",
    "        Input spectra\n",
    "    \"\"\"\n",
    "    # collect all inchikeys (first 14 characters)\n",
    "    inchikey_collection = OrderedDict()\n",
    "    for i, spec in enumerate(spectrums):\n",
    "        inchikey = spec.get(\"inchikey\")\n",
    "        if inchikey:\n",
    "            if inchikey[:14] in inchikey_collection:\n",
    "                inchikey_collection[inchikey[:14]] += [i]\n",
    "            else:\n",
    "                inchikey_collection[inchikey[:14]] = [i]\n",
    "\n",
    "    intensity_thres = 0.01\n",
    "    n_peaks_required = 10\n",
    "    ID_picks = []\n",
    "\n",
    "    inchikey14_unique = [x for x in inchikey_collection.keys()]\n",
    "\n",
    "    # Loop through all unique inchiques (14 first characters)\n",
    "    for inchikey14 in inchikey14_unique:\n",
    "        specIDs = np.array(inchikey_collection[inchikey14])\n",
    "        if specIDs.size == 1:\n",
    "            ID_picks.append(specIDs[0])\n",
    "        else:\n",
    "            # 1 select spec with sufficient peaks (e.g. 10 with intensity 0.01)\n",
    "            num_peaks = np.array([count_higher_peaks(\n",
    "                spectrums[specID], intensity_thres) for\n",
    "                                  specID in specIDs])\n",
    "            sufficient_peaks = np.where(num_peaks >= n_peaks_required)[0]\n",
    "            if sufficient_peaks.size == 0:\n",
    "                sufficient_peaks = np.where(num_peaks == max(num_peaks))[0]\n",
    "            step1IDs = specIDs[sufficient_peaks]\n",
    "\n",
    "            # 2 select best spectrum qualities\n",
    "            # (according to gnps measure). 1 > 2 > 3\n",
    "            qualities = np.array(\n",
    "                [int(spectrums[specID].get(\"library_class\", 3))\n",
    "                 for specID in step1IDs])  # default worst quality\n",
    "            step2IDs = step1IDs[np.where(qualities == min(qualities))[0]]\n",
    "\n",
    "            # 3 Select the ones with most peaks > threshold\n",
    "            num_peaks = np.array([count_higher_peaks(\n",
    "                spectrums[specID], intensity_thres) for specID in step2IDs])\n",
    "            pick = np.argmax(num_peaks)\n",
    "            ID_picks.append(step2IDs[pick])\n",
    "    ID_picks.sort()  # ensure order\n",
    "\n",
    "    return ID_picks"
   ]
  },
  {
   "cell_type": "code",
   "execution_count": 26,
   "id": "48141e16",
   "metadata": {},
   "outputs": [],
   "source": [
    "# filter on unique inchi keys\n",
    "uniq_ids = get_ids_for_unique_inchikeys(all_spectrums)\n",
    "uniq_spectrums = [all_spectrums[i] for i in uniq_ids]\n",
    "\n",
    "# take small subset for dev\n",
    "#spectrums = uniq_spectrums[:10000]\n",
    "spectrums = uniq_spectrums"
   ]
  },
  {
   "cell_type": "code",
   "execution_count": 27,
   "id": "391fdcba",
   "metadata": {},
   "outputs": [
    {
     "name": "stdout",
     "output_type": "stream",
     "text": [
      "16360\n"
     ]
    }
   ],
   "source": [
    "# turn into pandas dataframe\n",
    "df = pd.DataFrame([spec.metadata for spec in spectrums])\n",
    "df = df[['spectrum_id', 'compound_name', 'smiles', 'inchikey']]\n",
    "df['inchikey14'] = [x[:14] for x in df['inchikey']]  # for tanimoto similarity matrix\n",
    "\n",
    "# merge classes into main df\n",
    "df = pd.merge(df, classes, on=\"spectrum_id\")\n",
    "print(len(df))"
   ]
  },
  {
   "cell_type": "markdown",
   "id": "44848816",
   "metadata": {},
   "source": [
    "## 1. Create embeddings\n"
   ]
  },
  {
   "cell_type": "markdown",
   "id": "3be25572",
   "metadata": {},
   "source": [
    "### MS2DeepScore"
   ]
  },
  {
   "cell_type": "code",
   "execution_count": 28,
   "id": "7ce69bc3",
   "metadata": {},
   "outputs": [],
   "source": [
    "from ms2deepscore.models import load_model\n",
    "from ms2deepscore import MS2DeepScore\n",
    "from tqdm.notebook import tqdm  # optional, just to get a progress bar\n",
    "\n",
    "data_path = '/lustre/BIF/nobackup/unen004/data'\n",
    "\n",
    "def create_ms2ds_embeddings():\n",
    "    \"\"\"Create and save MS2DeepScore embeddings to file.\n",
    "    \"\"\"\n",
    "    # Load pretrained ms2ds model\n",
    "    ms2ds_model_fn = os.path.join(data_path, 'ms2ds_model_20210419-221701_data210409_10k_500_500_200.hdf5')\n",
    "    ms2ds_model = load_model(ms2ds_model_fn)\n",
    "\n",
    "    # Init MS2DeepScore\n",
    "    ms2ds_score = MS2DeepScore(ms2ds_model)\n",
    "\n",
    "    # Generate embeddings from spectra\n",
    "    ms2ds_embeddings = ms2ds_score.calculate_vectors(spectrums)\n",
    "    \n",
    "    # Save embeddings to file, cause takes ~15 min to make the embeddings\n",
    "    with open(os.path.join(data_path, 'ms2ds', 'ms2ds_embeddings.pickle'), 'wb') as f:\n",
    "        pickle.dump(ms2ds_embeddings, f) \n",
    "\n",
    "def load_ms2ds_embeddings():    \n",
    "    \"\"\"Return ms2ds embedding vectors\n",
    "    \"\"\"\n",
    "    with open(os.path.join(data_path, 'ms2ds', 'ms2ds_embeddings.pickle'), 'rb') as f:\n",
    "        ms2ds_embeddings = pickle.load(f)\n",
    "        return ms2ds_embeddings\n",
    "\n",
    "#create_ms2ds_embeddings()\n",
    "ms2ds_embeddings = load_ms2ds_embeddings()\n"
   ]
  },
  {
   "cell_type": "markdown",
   "id": "b0a76689",
   "metadata": {},
   "source": [
    "### Spec2Vec"
   ]
  },
  {
   "cell_type": "code",
   "execution_count": 29,
   "id": "642b93da",
   "metadata": {},
   "outputs": [
    {
     "data": {
      "application/vnd.jupyter.widget-view+json": {
       "model_id": "23e139265b8749edba646992057d434e",
       "version_major": 2,
       "version_minor": 0
      },
      "text/plain": [
       "  0%|          | 0/16360 [00:00<?, ?it/s]"
      ]
     },
     "metadata": {},
     "output_type": "display_data"
    }
   ],
   "source": [
    "from gensim.models import Word2Vec\n",
    "from spec2vec import SpectrumDocument\n",
    "from spec2vec.vector_operations import calc_vector\n",
    "\n",
    "def create_spec2vec_embeddings():\n",
    "    \"\"\"Create Spec2Vec embeddings \n",
    "    \"\"\"\n",
    "    # Load pretrained spec2vec model \n",
    "    spec2vec_model_fn = os.path.join(path, \"embeddings\", \"ALL_GNPS_210409_positive\", \n",
    "                            \"ALL_GNPS_210409_positive_cleaned_spec2vec_embedding_iter_15.model\")\n",
    "    spec2vec_model = Word2Vec.load(spec2vec_model_fn)\n",
    "    \n",
    "    # Create \"documents\"\n",
    "    spectrum_documents = [SpectrumDocument(s, n_decimals=2) for s in spectrums]\n",
    "    \n",
    "    # Derive embeddings from model with documents\n",
    "    intensity_weighting_power = 0.5\n",
    "    allowed_missing_percentage = 10 # specify the maximum (weighted) fraction of the spectrum that is allowed to be missing\n",
    "\n",
    "    spec2vec_embeddings = np.zeros((len(spectrum_documents), spec2vec_model.vector_size), dtype=\"float\")\n",
    "    for i, doc in enumerate(tqdm(spectrum_documents)):\n",
    "        spec2vec_embeddings[i, 0:spec2vec_model.vector_size] = calc_vector(spec2vec_model, doc,\n",
    "                                                                           intensity_weighting_power,\n",
    "                                                                           allowed_missing_percentage)\n",
    "    \n",
    "    return spec2vec_embeddings\n",
    "\n",
    "# Add to dataframe\n",
    "spec2vec_embeddings = create_spec2vec_embeddings()"
   ]
  },
  {
   "cell_type": "markdown",
   "id": "3c67c495",
   "metadata": {},
   "source": [
    "### Mol2Vec"
   ]
  },
  {
   "cell_type": "code",
   "execution_count": 30,
   "id": "3b99ab80",
   "metadata": {},
   "outputs": [
    {
     "data": {
      "application/vnd.jupyter.widget-view+json": {
       "model_id": "506f8d20359948b7afcf961d2c8a0bc0",
       "version_major": 2,
       "version_minor": 0
      },
      "text/plain": [
       "  0%|          | 0/16360 [00:00<?, ?it/s]"
      ]
     },
     "metadata": {},
     "output_type": "display_data"
    },
    {
     "name": "stderr",
     "output_type": "stream",
     "text": [
      "RDKit WARNING: [18:10:15] WARNING: not removing hydrogen atom without neighbors\n",
      "[18:10:15] WARNING: not removing hydrogen atom without neighbors\n"
     ]
    }
   ],
   "source": [
    "from mol2vec.features import mol2alt_sentence, MolSentence #,sentences2vec\n",
    "from rdkit import Chem\n",
    "\n",
    "def sentences2vec_new(sentences, model, unseen=None):\n",
    "    \"\"\"mol2vec.sentences2vec - but updated to Gensim version 4.\n",
    "    https://github.com/samoturk/mol2vec/pull/16\n",
    "    \"\"\"\n",
    "    keys = set(model.wv.key_to_index)\n",
    "    vec = []\n",
    "    \n",
    "    if unseen:\n",
    "        unseen_vec = model.wv.get_vector(unseen)\n",
    "\n",
    "    for sentence in sentences:\n",
    "        if unseen:\n",
    "            vec.append(sum([model.wv.get_vector(y) if y in set(sentence) & keys\n",
    "                       else unseen_vec for y in sentence]))\n",
    "        else:\n",
    "            vec.append(sum([model.wv.get_vector(y) for y in sentence \n",
    "                            if y in set(sentence) & keys]))\n",
    "    return np.array(vec)\n",
    "\n",
    "def create_mol2vec_embeddings():\n",
    "    \"\"\"Create Mol2Vec embeddings vectors\n",
    "    \"\"\"\n",
    "    # Load pretrained mol2vec model \n",
    "    mol2vec_model_fn = os.path.join(data_path, 'mol2vec', 'model_300dim.pkl')\n",
    "    mol2vec_model = Word2Vec.load(mol2vec_model_fn)\n",
    "\n",
    "    df['mol'] = \"\"\n",
    "    df['sentence'] = \"\"\n",
    "    for i, row in tqdm(df.iterrows(), total=df.shape[0]):\n",
    "        mol = Chem.MolFromSmiles(row['smiles'])  # This gives the hydrogen warning\n",
    "        if mol.GetNumAtoms() != 0:  \n",
    "            df.at[i, 'mol'] = mol  # rdkit/molecule\n",
    "            df.at[i, 'sentence'] = MolSentence(mol2alt_sentence(mol, radius=1))\n",
    "    mol2vec_embeddings = [x for x in sentences2vec_new(df['sentence'], mol2vec_model, unseen='UNK')]\n",
    "    return mol2vec_embeddings\n",
    "\n",
    "mol2vec_embeddings = create_mol2vec_embeddings()"
   ]
  },
  {
   "cell_type": "markdown",
   "id": "193efb33",
   "metadata": {},
   "source": [
    "## TODO: plot of normalization and non-normalization"
   ]
  },
  {
   "cell_type": "code",
   "execution_count": 31,
   "id": "818bec4f",
   "metadata": {},
   "outputs": [],
   "source": [
    "# Normalize embedding vectors\n",
    "from sklearn.preprocessing import normalize\n",
    "\n",
    "# Normalize embeddings on samples\n",
    "ms2ds_embeddings = normalize(ms2ds_embeddings)\n",
    "spec2vec_embeddings = normalize(spec2vec_embeddings)\n",
    "mol2vec_embeddings = normalize(mol2vec_embeddings)"
   ]
  },
  {
   "cell_type": "code",
   "execution_count": 32,
   "id": "95d4091a",
   "metadata": {},
   "outputs": [],
   "source": [
    "# Add embedding vectors to df\n",
    "df['ms2ds'] = [x for x in ms2ds_embeddings]\n",
    "df['spec2vec'] = [x for x in spec2vec_embeddings]\n",
    "df['mol2vec'] = [x for x in mol2vec_embeddings]"
   ]
  },
  {
   "cell_type": "code",
   "execution_count": 33,
   "id": "cecceb03",
   "metadata": {},
   "outputs": [
    {
     "data": {
      "text/html": [
       "<div>\n",
       "<style scoped>\n",
       "    .dataframe tbody tr th:only-of-type {\n",
       "        vertical-align: middle;\n",
       "    }\n",
       "\n",
       "    .dataframe tbody tr th {\n",
       "        vertical-align: top;\n",
       "    }\n",
       "\n",
       "    .dataframe thead th {\n",
       "        text-align: right;\n",
       "    }\n",
       "</style>\n",
       "<table border=\"1\" class=\"dataframe\">\n",
       "  <thead>\n",
       "    <tr style=\"text-align: right;\">\n",
       "      <th></th>\n",
       "      <th>spectrum_id</th>\n",
       "      <th>compound_name</th>\n",
       "      <th>smiles</th>\n",
       "      <th>inchikey</th>\n",
       "      <th>inchikey14</th>\n",
       "      <th>cf_kingdom</th>\n",
       "      <th>cf_superclass</th>\n",
       "      <th>cf_class</th>\n",
       "      <th>cf_subclass</th>\n",
       "      <th>cf_direct_parent</th>\n",
       "      <th>npc_class_results</th>\n",
       "      <th>npc_superclass_results</th>\n",
       "      <th>npc_pathway_results</th>\n",
       "      <th>npc_isglycoside</th>\n",
       "      <th>mol</th>\n",
       "      <th>sentence</th>\n",
       "      <th>ms2ds</th>\n",
       "      <th>spec2vec</th>\n",
       "      <th>mol2vec</th>\n",
       "    </tr>\n",
       "  </thead>\n",
       "  <tbody>\n",
       "    <tr>\n",
       "      <th>0</th>\n",
       "      <td>CCMSLIB00000001547</td>\n",
       "      <td>3-Des-Microcystein_LR</td>\n",
       "      <td>CC(C)CC1NC(=O)C(C)NC(=O)C(=C)N(C)C(=O)CCC(NC(=...</td>\n",
       "      <td>IYDKWWDUBYWQGF-NNAZGLEUSA-N</td>\n",
       "      <td>IYDKWWDUBYWQGF</td>\n",
       "      <td>Organic compounds</td>\n",
       "      <td>Organic acids and derivatives</td>\n",
       "      <td>Peptidomimetics</td>\n",
       "      <td>Hybrid peptides</td>\n",
       "      <td>Hybrid peptides</td>\n",
       "      <td>Cyclic peptides; Microcystins</td>\n",
       "      <td>Oligopeptides</td>\n",
       "      <td>Amino acids and Peptides</td>\n",
       "      <td>0</td>\n",
       "      <td>&lt;img data-content=\"rdkit/molecule\" src=\"data:i...</td>\n",
       "      <td>(2246728737, 3537119515, 2245273601, 242354360...</td>\n",
       "      <td>[0.0, 0.11211989062426796, 0.0, 0.158931198460...</td>\n",
       "      <td>[0.03837159812841756, 0.09913249716376928, 0.0...</td>\n",
       "      <td>[0.005604683527400814, -0.02301042087378335, -...</td>\n",
       "    </tr>\n",
       "    <tr>\n",
       "      <th>1</th>\n",
       "      <td>CCMSLIB00000001548</td>\n",
       "      <td>Hoiamide B</td>\n",
       "      <td>CCC[C@@H](C)[C@@H]([C@H](C)[C@@H]1[C@H]([C@H](...</td>\n",
       "      <td>KNGPFNUOXXLKCN-ZNCJFREWSA-N</td>\n",
       "      <td>KNGPFNUOXXLKCN</td>\n",
       "      <td>Organic compounds</td>\n",
       "      <td>Organic acids and derivatives</td>\n",
       "      <td>Peptidomimetics</td>\n",
       "      <td>Depsipeptides</td>\n",
       "      <td>Cyclic depsipeptides</td>\n",
       "      <td>Cyclic peptides</td>\n",
       "      <td>Oligopeptides</td>\n",
       "      <td>Amino acids and Peptides</td>\n",
       "      <td>0</td>\n",
       "      <td>&lt;img data-content=\"rdkit/molecule\" src=\"data:i...</td>\n",
       "      <td>(2246728737, 3542456614, 2245384272, 117312591...</td>\n",
       "      <td>[0.0, 0.10557166694366461, 0.0, 0.188627002322...</td>\n",
       "      <td>[0.07626190933359983, 0.1290448493814702, 0.06...</td>\n",
       "      <td>[-0.009834483545748103, -0.027489677816243393,...</td>\n",
       "    </tr>\n",
       "    <tr>\n",
       "      <th>2</th>\n",
       "      <td>CCMSLIB00000001550</td>\n",
       "      <td>Scytonemin</td>\n",
       "      <td>OC1=CC=C(\\C=C2\\C(=O)C(C3=C4C5=C(C=CC=C5)N=C4\\C...</td>\n",
       "      <td>CGZKSPLDUIRCIO-RPCRKUJJSA-N</td>\n",
       "      <td>CGZKSPLDUIRCIO</td>\n",
       "      <td>Organic compounds</td>\n",
       "      <td>Organoheterocyclic compounds</td>\n",
       "      <td>Indoles and derivatives</td>\n",
       "      <td>NaN</td>\n",
       "      <td>Indoles and derivatives</td>\n",
       "      <td>NaN</td>\n",
       "      <td>NaN</td>\n",
       "      <td>Shikimates and Phenylpropanoids</td>\n",
       "      <td>0</td>\n",
       "      <td>&lt;img data-content=\"rdkit/molecule\" src=\"data:i...</td>\n",
       "      <td>(864662311, 26234434, 3217380708, 2905660137, ...</td>\n",
       "      <td>[0.0, 0.1336975940932368, 0.0, 0.1912738648554...</td>\n",
       "      <td>[0.0792954864406949, 0.0829470276451531, -0.03...</td>\n",
       "      <td>[0.022136275297993648, -0.003164903719515904, ...</td>\n",
       "    </tr>\n",
       "    <tr>\n",
       "      <th>3</th>\n",
       "      <td>CCMSLIB00000001552</td>\n",
       "      <td>Hectochlorin</td>\n",
       "      <td>C[C@H]1[C@@H](OC(C2=CSC([C@H](C(C)(OC(C3=CSC([...</td>\n",
       "      <td>USXIYWCPCGVOKF-LERJCCFDSA-N</td>\n",
       "      <td>USXIYWCPCGVOKF</td>\n",
       "      <td>Organic compounds</td>\n",
       "      <td>Organic acids and derivatives</td>\n",
       "      <td>Peptidomimetics</td>\n",
       "      <td>Depsipeptides</td>\n",
       "      <td>Cyclic depsipeptides</td>\n",
       "      <td>Cyclic peptides; Depsipeptides</td>\n",
       "      <td>Oligopeptides</td>\n",
       "      <td>Amino acids and Peptides; Polyketides</td>\n",
       "      <td>0</td>\n",
       "      <td>&lt;img data-content=\"rdkit/molecule\" src=\"data:i...</td>\n",
       "      <td>(2246728737, 1858577693, 2976033787, 267264863...</td>\n",
       "      <td>[0.0, 0.0, 0.0, 0.20587242288185872, 0.2475291...</td>\n",
       "      <td>[0.005036696565324857, -0.057816207361243564, ...</td>\n",
       "      <td>[-0.0010993798911880348, -0.031671053774092295...</td>\n",
       "    </tr>\n",
       "    <tr>\n",
       "      <th>4</th>\n",
       "      <td>CCMSLIB00000001554</td>\n",
       "      <td>Cyclomarin A</td>\n",
       "      <td>C[C@H]1C(=O)N[C@H](C(=O)N[C@H](C(=O)N([C@H](C(...</td>\n",
       "      <td>WCNJVJCYRBJSLC-BCJYPDSRSA-N</td>\n",
       "      <td>WCNJVJCYRBJSLC</td>\n",
       "      <td>Organic compounds</td>\n",
       "      <td>Phenylpropanoids and polyketides</td>\n",
       "      <td>Macrolactams</td>\n",
       "      <td>NaN</td>\n",
       "      <td>Macrolactams</td>\n",
       "      <td>Cyclic peptides</td>\n",
       "      <td>Oligopeptides</td>\n",
       "      <td>Amino acids and Peptides</td>\n",
       "      <td>0</td>\n",
       "      <td>&lt;img data-content=\"rdkit/molecule\" src=\"data:i...</td>\n",
       "      <td>(2246728737, 1858577693, 2976033787, 125971071...</td>\n",
       "      <td>[0.06848110642982089, 0.0, 0.08852951477401143...</td>\n",
       "      <td>[-0.0067413807360351555, 0.03144355490931601, ...</td>\n",
       "      <td>[-0.0012273630584583826, -0.03138404125269303,...</td>\n",
       "    </tr>\n",
       "  </tbody>\n",
       "</table>\n",
       "</div>"
      ],
      "text/plain": [
       "          spectrum_id          compound_name  \\\n",
       "0  CCMSLIB00000001547  3-Des-Microcystein_LR   \n",
       "1  CCMSLIB00000001548             Hoiamide B   \n",
       "2  CCMSLIB00000001550             Scytonemin   \n",
       "3  CCMSLIB00000001552           Hectochlorin   \n",
       "4  CCMSLIB00000001554           Cyclomarin A   \n",
       "\n",
       "                                              smiles  \\\n",
       "0  CC(C)CC1NC(=O)C(C)NC(=O)C(=C)N(C)C(=O)CCC(NC(=...   \n",
       "1  CCC[C@@H](C)[C@@H]([C@H](C)[C@@H]1[C@H]([C@H](...   \n",
       "2  OC1=CC=C(\\C=C2\\C(=O)C(C3=C4C5=C(C=CC=C5)N=C4\\C...   \n",
       "3  C[C@H]1[C@@H](OC(C2=CSC([C@H](C(C)(OC(C3=CSC([...   \n",
       "4  C[C@H]1C(=O)N[C@H](C(=O)N[C@H](C(=O)N([C@H](C(...   \n",
       "\n",
       "                      inchikey      inchikey14         cf_kingdom  \\\n",
       "0  IYDKWWDUBYWQGF-NNAZGLEUSA-N  IYDKWWDUBYWQGF  Organic compounds   \n",
       "1  KNGPFNUOXXLKCN-ZNCJFREWSA-N  KNGPFNUOXXLKCN  Organic compounds   \n",
       "2  CGZKSPLDUIRCIO-RPCRKUJJSA-N  CGZKSPLDUIRCIO  Organic compounds   \n",
       "3  USXIYWCPCGVOKF-LERJCCFDSA-N  USXIYWCPCGVOKF  Organic compounds   \n",
       "4  WCNJVJCYRBJSLC-BCJYPDSRSA-N  WCNJVJCYRBJSLC  Organic compounds   \n",
       "\n",
       "                      cf_superclass                 cf_class      cf_subclass  \\\n",
       "0     Organic acids and derivatives          Peptidomimetics  Hybrid peptides   \n",
       "1     Organic acids and derivatives          Peptidomimetics    Depsipeptides   \n",
       "2      Organoheterocyclic compounds  Indoles and derivatives              NaN   \n",
       "3     Organic acids and derivatives          Peptidomimetics    Depsipeptides   \n",
       "4  Phenylpropanoids and polyketides             Macrolactams              NaN   \n",
       "\n",
       "          cf_direct_parent               npc_class_results  \\\n",
       "0          Hybrid peptides   Cyclic peptides; Microcystins   \n",
       "1     Cyclic depsipeptides                 Cyclic peptides   \n",
       "2  Indoles and derivatives                             NaN   \n",
       "3     Cyclic depsipeptides  Cyclic peptides; Depsipeptides   \n",
       "4             Macrolactams                 Cyclic peptides   \n",
       "\n",
       "  npc_superclass_results                    npc_pathway_results  \\\n",
       "0          Oligopeptides               Amino acids and Peptides   \n",
       "1          Oligopeptides               Amino acids and Peptides   \n",
       "2                    NaN        Shikimates and Phenylpropanoids   \n",
       "3          Oligopeptides  Amino acids and Peptides; Polyketides   \n",
       "4          Oligopeptides               Amino acids and Peptides   \n",
       "\n",
       "   npc_isglycoside                                                mol  \\\n",
       "0                0  <img data-content=\"rdkit/molecule\" src=\"data:i...   \n",
       "1                0  <img data-content=\"rdkit/molecule\" src=\"data:i...   \n",
       "2                0  <img data-content=\"rdkit/molecule\" src=\"data:i...   \n",
       "3                0  <img data-content=\"rdkit/molecule\" src=\"data:i...   \n",
       "4                0  <img data-content=\"rdkit/molecule\" src=\"data:i...   \n",
       "\n",
       "                                            sentence  \\\n",
       "0  (2246728737, 3537119515, 2245273601, 242354360...   \n",
       "1  (2246728737, 3542456614, 2245384272, 117312591...   \n",
       "2  (864662311, 26234434, 3217380708, 2905660137, ...   \n",
       "3  (2246728737, 1858577693, 2976033787, 267264863...   \n",
       "4  (2246728737, 1858577693, 2976033787, 125971071...   \n",
       "\n",
       "                                               ms2ds  \\\n",
       "0  [0.0, 0.11211989062426796, 0.0, 0.158931198460...   \n",
       "1  [0.0, 0.10557166694366461, 0.0, 0.188627002322...   \n",
       "2  [0.0, 0.1336975940932368, 0.0, 0.1912738648554...   \n",
       "3  [0.0, 0.0, 0.0, 0.20587242288185872, 0.2475291...   \n",
       "4  [0.06848110642982089, 0.0, 0.08852951477401143...   \n",
       "\n",
       "                                            spec2vec  \\\n",
       "0  [0.03837159812841756, 0.09913249716376928, 0.0...   \n",
       "1  [0.07626190933359983, 0.1290448493814702, 0.06...   \n",
       "2  [0.0792954864406949, 0.0829470276451531, -0.03...   \n",
       "3  [0.005036696565324857, -0.057816207361243564, ...   \n",
       "4  [-0.0067413807360351555, 0.03144355490931601, ...   \n",
       "\n",
       "                                             mol2vec  \n",
       "0  [0.005604683527400814, -0.02301042087378335, -...  \n",
       "1  [-0.009834483545748103, -0.027489677816243393,...  \n",
       "2  [0.022136275297993648, -0.003164903719515904, ...  \n",
       "3  [-0.0010993798911880348, -0.031671053774092295...  \n",
       "4  [-0.0012273630584583826, -0.03138404125269303,...  "
      ]
     },
     "execution_count": 33,
     "metadata": {},
     "output_type": "execute_result"
    }
   ],
   "source": [
    "df.head()"
   ]
  },
  {
   "cell_type": "markdown",
   "id": "6b984688",
   "metadata": {},
   "source": [
    "Lastly, save the dataframe to a file."
   ]
  },
  {
   "cell_type": "code",
   "execution_count": 34,
   "id": "f65cb138",
   "metadata": {},
   "outputs": [],
   "source": [
    "with open(os.path.join(data_path, 'full_dataframe.pickle'), 'wb') as f:\n",
    "    pickle.dump(df, f)"
   ]
  }
 ],
 "metadata": {
  "kernelspec": {
   "display_name": "Python 3 (ipykernel)",
   "language": "python",
   "name": "python3"
  },
  "language_info": {
   "codemirror_mode": {
    "name": "ipython",
    "version": 3
   },
   "file_extension": ".py",
   "mimetype": "text/x-python",
   "name": "python",
   "nbconvert_exporter": "python",
   "pygments_lexer": "ipython3",
   "version": "3.8.12"
  }
 },
 "nbformat": 4,
 "nbformat_minor": 5
}
