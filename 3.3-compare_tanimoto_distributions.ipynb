{
 "cells": [
  {
   "cell_type": "markdown",
   "id": "1b9b6754",
   "metadata": {},
   "source": [
    "Step 3 notebooks are revolved around using the latent space. \n",
    "\n",
    "Steps performed in this notebook:\n",
    "\n",
    "**1. Load in CCA dataframes:** Created by notebook 2-perform_cca.\n",
    "\n",
    "**2. Cross-modal retrieval:** Same as in notebook 3.1, but then for each combination of CCA and number of dimensions, in order to decide which number of dimensions is best for our data."
   ]
  },
  {
   "cell_type": "code",
   "execution_count": 1,
   "id": "86764ad9",
   "metadata": {},
   "outputs": [],
   "source": [
    "# Set plot style\n",
    "import matplotlib.pyplot as plt\n",
    "plt.rcParams.update(plt.rcParamsDefault)\n",
    "\n",
    "import matplotlib.style as style\n",
    "style.use('ggplot')\n",
    "%matplotlib inline"
   ]
  },
  {
   "cell_type": "code",
   "execution_count": 4,
   "id": "e235e345",
   "metadata": {
    "scrolled": true
   },
   "outputs": [],
   "source": [
    "import os\n",
    "import pickle\n",
    "dataset = \"ALL_GNPS_210409_positive\"\n",
    "\n",
    "path = os.path.join(\"/mnt/LTR_userdata/hooft001/mass_spectral_embeddings\", \"datasets\", dataset)\n",
    "\n",
    "# Load in tanimoto similarity matrix for comparisons later\n",
    "tanimoto_fn = os.path.join(path, \"%s_tanimoto_scores.pickle\" % dataset)\n",
    "with open(tanimoto_fn, \"rb\") as f:\n",
    "    tanimoto_matrix = pickle.load(f)"
   ]
  },
  {
   "cell_type": "markdown",
   "id": "29621abe",
   "metadata": {},
   "source": [
    "## 1. Load in CCA dataframes"
   ]
  },
  {
   "cell_type": "code",
   "execution_count": 14,
   "id": "fb941e37",
   "metadata": {},
   "outputs": [],
   "source": [
    "def load_pickle(fn, path):\n",
    "    with open(os.path.join(path, '%s.pickle' % fn), 'rb') as f:\n",
    "        df = pickle.load(f) \n",
    "    return df\n",
    "\n",
    "df_spec2vec_cca_10 = load_pickle('dataframe_spec2vec_cca_%d' % (10), '/lustre/BIF/nobackup/unen004/data')\n",
    "df_spec2vec_cca_50 = load_pickle('dataframe_spec2vec_cca_%d' % (50), '/lustre/BIF/nobackup/unen004/data')\n",
    "df_spec2vec_cca_100 = load_pickle('dataframe_spec2vec_cca_%d' % (100), '/lustre/BIF/nobackup/unen004/data')\n",
    "df_spec2vec_cca_200 = load_pickle('dataframe_spec2vec_cca_%d' % (200), '/lustre/BIF/nobackup/unen004/data')\n",
    "df_spec2vec_cca_300 = load_pickle('dataframe_spec2vec_cca_%d' % (300), '/lustre/BIF/nobackup/unen004/data')\n",
    "\n",
    "df_spec2vec_dcca_10 = load_pickle('dataframe_spec2vec_dcca_%d' % (10), '/lustre/BIF/nobackup/unen004/data')\n",
    "df_spec2vec_dcca_50 = load_pickle('dataframe_spec2vec_dcca_%d' % (50), '/lustre/BIF/nobackup/unen004/data')\n",
    "df_spec2vec_dcca_100 = load_pickle('dataframe_spec2vec_dcca_%d' % (100), '/lustre/BIF/nobackup/unen004/data')\n",
    "df_spec2vec_dcca_200 = load_pickle('dataframe_spec2vec_dcca_%d' % (200), '/lustre/BIF/nobackup/unen004/data')\n",
    "df_spec2vec_dcca_300 = load_pickle('dataframe_spec2vec_dcca_%d' % (300), '/lustre/BIF/nobackup/unen004/data')"
   ]
  },
  {
   "cell_type": "markdown",
   "id": "5f08d8e4",
   "metadata": {},
   "source": [
    "## 2. Cross-modal retrieval"
   ]
  },
  {
   "cell_type": "code",
   "execution_count": 6,
   "id": "2f37fdd5",
   "metadata": {},
   "outputs": [],
   "source": [
    "import heapq\n",
    "import pandas as pd\n",
    "import numpy as np\n",
    "from tqdm.notebook import tqdm\n",
    "from scipy.spatial import distance\n",
    "\n",
    "def get_tanimoto_df(all_tanimoto_list, nn_list, method):\n",
    "    \"\"\"From list of e.g. 100 nn results, cut off list at certain points for plotting\n",
    "    and then take the max tanimoto of those nearest neighbours.\n",
    "    \"\"\"\n",
    "    tanimoto_dict = {}\n",
    "    for nn in nn_list:  # Loop through nns\n",
    "        tanimoto_list = []\n",
    "        for all_tanimoto in all_tanimoto_list:  # Loop through matches\n",
    "            curr_tanimoto = all_tanimoto[:nn]  # Cut off at certain spots\n",
    "            if method == 'max':\n",
    "                tanimoto = max(curr_tanimoto)  # Get max over all nearest neighbours\n",
    "            else:\n",
    "                tanimoto = np.mean(curr_tanimoto) # Get avg over all nearest neighbours\n",
    "            tanimoto_list.append(tanimoto)\n",
    "        tanimoto_dict[nn] = tanimoto_list\n",
    "    return pd.DataFrame(tanimoto_dict)\n",
    "\n",
    "def perform_tanimoto_steps(df_query, df_library, nn_list, metric, x, y, method, self_allowed, random, set_type='train'):\n",
    "    \"\"\"Perform all steps to get matches based on lowest distance, get tanimoto similarity for each match, \n",
    "    and get max tanimoto similarity for each group of nearest neighbours.\n",
    "    -------------------------\n",
    "    nn_list: list of n nearest neighbours in inverse order\n",
    "    metric: cosine, euclidean\n",
    "    \"\"\"\n",
    "    \n",
    "    max_nn = max(nn_list)\n",
    "    \n",
    "    # Make distance matrix between X and Y\n",
    "    cdist_matrix = distance.cdist([x for x in df_query[x]],\n",
    "                                  [x for x in df_library[y]],\n",
    "                                  metric=metric)\n",
    "\n",
    "    # loop hrough each row in the dist matrix\n",
    "    all_tanimoto_list = []\n",
    "    for i, dist_list in enumerate(tqdm(cdist_matrix)): \n",
    "        # Get query info\n",
    "        query = df_query.iloc[[i]]  # iloc looks by row number; 0, 1, 2...\n",
    "        q_inchi = query.inchikey14.values[0]  # Get first 14 chars of inchikey of query\n",
    "        \n",
    "        # Turn distances into dataframe\n",
    "        dist_df = pd.DataFrame(dist_list, columns=['dist'], index=df_library.inchikey14)\n",
    "\n",
    "        # Add option to exclude self-matches, e.g. when query and library are same embedding\n",
    "        if not self_allowed:\n",
    "            dist_df.drop(q_inchi, inplace=True)  # Remove self-match \n",
    "            \n",
    "        # Sort on distance from small to high\n",
    "        dist_df.sort_values(by='dist', inplace=True)\n",
    "\n",
    "        # Take top n nearest neighbours, and keep only the inchikeys\n",
    "        if random:\n",
    "            inchis = df_library.sample(max_nn).inchikey14.values  # Get n random inchikey14 values\n",
    "        else:\n",
    "            inchis = dist_df[:max_nn].index.values\n",
    "\n",
    "        # Get tanimoto similarities of (random) matches with query\n",
    "        tanimoto_list = tanimoto_matrix[q_inchi][inchis].values\n",
    "        \n",
    "        all_tanimoto_list.append(tanimoto_list)\n",
    "        \n",
    "    tanimoto_df = get_tanimoto_df(all_tanimoto_list, nn_list, method)\n",
    "    \n",
    "    # Add column to indicate if train or test data\n",
    "    #tanimoto_df['set'] = set_type\n",
    "        \n",
    "    return tanimoto_df\n",
    "\n",
    "def get_tanimoto_train(df, nn_list, metric='cosine', x='X', y='Y', method='max', self_allowed=True, random=False):\n",
    "    \"\"\"All the functions above are performed for train\n",
    "    \"\"\"\n",
    "    df_train = df[df['set'] == 'train']\n",
    "    tanimoto_df = perform_tanimoto_steps(df_train, df_train, nn_list, metric, x, y, method, self_allowed, random)\n",
    "    return tanimoto_df\n",
    "\n",
    "def get_tanimoto_test(df, nn_list, metric='cosine', x='X', y='Y', method='max', self_allowed=True, random=False):\n",
    "    \"\"\"# Look with test dataset in train in order to have a more even comparison between Spec2Vec and CCA\n",
    "    \"\"\"\n",
    "    df_train = df[df['set'] == 'train']\n",
    "    df_test = df[df['set'] == 'test']\n",
    "    tanimoto_df = perform_tanimoto_steps(df_test, df_train, nn_list, metric, x, y, method, self_allowed, random)\n",
    "    return tanimoto_df"
   ]
  },
  {
   "cell_type": "code",
   "execution_count": 7,
   "id": "352e866f",
   "metadata": {},
   "outputs": [],
   "source": [
    "# Prediction settings\n",
    "nn_list = [1, 5, 10, 50, 100]\n",
    "metric = 'cosine'"
   ]
  },
  {
   "cell_type": "markdown",
   "id": "3f647a26",
   "metadata": {},
   "source": [
    "### 2.1 Test in train\n",
    "#### 2.1.1 CCA\n",
    "The plot shows that for CCA, 100 dimensions perform best for test data (highest tanimoto similarities over all nearest neighbours)."
   ]
  },
  {
   "cell_type": "code",
   "execution_count": 8,
   "id": "dbd55792",
   "metadata": {},
   "outputs": [
    {
     "data": {
      "application/vnd.jupyter.widget-view+json": {
       "model_id": "b2f4664e0f58463fa8c25660b01e73ef",
       "version_major": 2,
       "version_minor": 0
      },
      "text/plain": [
       "  0%|          | 0/3029 [00:00<?, ?it/s]"
      ]
     },
     "metadata": {},
     "output_type": "display_data"
    },
    {
     "data": {
      "application/vnd.jupyter.widget-view+json": {
       "model_id": "93a946fdc9454cbcbf1f291700cc55ce",
       "version_major": 2,
       "version_minor": 0
      },
      "text/plain": [
       "  0%|          | 0/3029 [00:00<?, ?it/s]"
      ]
     },
     "metadata": {},
     "output_type": "display_data"
    },
    {
     "data": {
      "application/vnd.jupyter.widget-view+json": {
       "model_id": "f85504a2de4442bc8adc2c4a80d0722c",
       "version_major": 2,
       "version_minor": 0
      },
      "text/plain": [
       "  0%|          | 0/3029 [00:00<?, ?it/s]"
      ]
     },
     "metadata": {},
     "output_type": "display_data"
    },
    {
     "data": {
      "application/vnd.jupyter.widget-view+json": {
       "model_id": "47e5dc65449c400da6a0a2e3a3337053",
       "version_major": 2,
       "version_minor": 0
      },
      "text/plain": [
       "  0%|          | 0/3029 [00:00<?, ?it/s]"
      ]
     },
     "metadata": {},
     "output_type": "display_data"
    },
    {
     "data": {
      "application/vnd.jupyter.widget-view+json": {
       "model_id": "f4c6539f7d8b4e96b2849c897dcf6b3c",
       "version_major": 2,
       "version_minor": 0
      },
      "text/plain": [
       "  0%|          | 0/3029 [00:00<?, ?it/s]"
      ]
     },
     "metadata": {},
     "output_type": "display_data"
    }
   ],
   "source": [
    "tanimoto_cca_10 = get_tanimoto_test(df_spec2vec_cca_10, nn_list, metric, x='X', y='Y')\n",
    "tanimoto_cca_50 = get_tanimoto_test(df_spec2vec_cca_50, nn_list, metric, x='X', y='Y')\n",
    "tanimoto_cca_100 = get_tanimoto_test(df_spec2vec_cca_100, nn_list, metric, x='X', y='Y')\n",
    "tanimoto_cca_200 = get_tanimoto_test(df_spec2vec_cca_200, nn_list, metric, x='X', y='Y')\n",
    "tanimoto_cca_300 = get_tanimoto_test(df_spec2vec_cca_300, nn_list, metric, x='X', y='Y')"
   ]
  },
  {
   "cell_type": "code",
   "execution_count": 10,
   "id": "1af21f17",
   "metadata": {},
   "outputs": [
    {
     "data": {
      "image/png": "[encoded data removed]",
      "text/plain": [
       "<Figure size 1260x252 with 5 Axes>"
      ]
     },
     "metadata": {
      "needs_background": "light"
     },
     "output_type": "display_data"
    }
   ],
   "source": [
    "# Make distribution plots\n",
    "import seaborn as sns \n",
    "\n",
    "def make_distribution_plot(tanimoto_df, title, p):\n",
    "    tanimoto_df_m = tanimoto_df.melt(id_vars=['embedding'], var_name='nn', value_name='tanimoto')\n",
    "    g = sns.catplot(x='tanimoto', y='embedding', data=tanimoto_df_m, col='nn', kind='boxen', height=3.5, palette='pastel')\n",
    "    \n",
    "p = [\"darkgray\", \"orchid\", \"lightseagreen\", \"mediumpurple\", \"chocolate\"]\n",
    "\n",
    "# Combine into one dataframe for plotting\n",
    "tanimoto_comparison_df = pd.concat([tanimoto_cca_10, tanimoto_cca_50, tanimoto_cca_100, tanimoto_cca_200, tanimoto_cca_300], \n",
    "                                      keys=['cca 10', 'cca 50', 'cca 100', 'cca 200', 'cca 300'], names=['embedding']).reset_index(level=[0])\n",
    "make_distribution_plot(tanimoto_comparison_df, \"\", p)"
   ]
  },
  {
   "cell_type": "markdown",
   "id": "7b73e4bc",
   "metadata": {},
   "source": [
    "#### 2.1.2 DCCA\n",
    "200 dimensions perform best here."
   ]
  },
  {
   "cell_type": "code",
   "execution_count": 12,
   "id": "8627039b",
   "metadata": {},
   "outputs": [
    {
     "data": {
      "application/vnd.jupyter.widget-view+json": {
       "model_id": "31b35ec0a2784508ad7627f33625e74a",
       "version_major": 2,
       "version_minor": 0
      },
      "text/plain": [
       "  0%|          | 0/3029 [00:00<?, ?it/s]"
      ]
     },
     "metadata": {},
     "output_type": "display_data"
    },
    {
     "data": {
      "application/vnd.jupyter.widget-view+json": {
       "model_id": "a7bcf3342400441d88573ea9c230a544",
       "version_major": 2,
       "version_minor": 0
      },
      "text/plain": [
       "  0%|          | 0/3029 [00:00<?, ?it/s]"
      ]
     },
     "metadata": {},
     "output_type": "display_data"
    },
    {
     "data": {
      "application/vnd.jupyter.widget-view+json": {
       "model_id": "823c976e6b544ab0bdf38fc5023fa628",
       "version_major": 2,
       "version_minor": 0
      },
      "text/plain": [
       "  0%|          | 0/3029 [00:00<?, ?it/s]"
      ]
     },
     "metadata": {},
     "output_type": "display_data"
    },
    {
     "data": {
      "application/vnd.jupyter.widget-view+json": {
       "model_id": "82eff502a24b45aa831c2cc156e41ea7",
       "version_major": 2,
       "version_minor": 0
      },
      "text/plain": [
       "  0%|          | 0/3029 [00:00<?, ?it/s]"
      ]
     },
     "metadata": {},
     "output_type": "display_data"
    },
    {
     "data": {
      "application/vnd.jupyter.widget-view+json": {
       "model_id": "7c3538c02be74a2599e01e68aae82d25",
       "version_major": 2,
       "version_minor": 0
      },
      "text/plain": [
       "  0%|          | 0/3029 [00:00<?, ?it/s]"
      ]
     },
     "metadata": {},
     "output_type": "display_data"
    }
   ],
   "source": [
    "tanimoto_dcca_10 = get_tanimoto_test(df_spec2vec_dcca_10, nn_list, metric, x='X', y='Y')\n",
    "tanimoto_dcca_50 = get_tanimoto_test(df_spec2vec_dcca_50, nn_list, metric, x='X', y='Y')\n",
    "tanimoto_dcca_100 = get_tanimoto_test(df_spec2vec_dcca_100, nn_list, metric, x='X', y='Y')\n",
    "tanimoto_dcca_200 = get_tanimoto_test(df_spec2vec_dcca_200, nn_list, metric, x='X', y='Y')\n",
    "tanimoto_dcca_300 = get_tanimoto_test(df_spec2vec_dcca_300, nn_list, metric, x='X', y='Y')"
   ]
  },
  {
   "cell_type": "code",
   "execution_count": 13,
   "id": "22507a53",
   "metadata": {},
   "outputs": [
    {
     "data": {
      "image/png": "[encoded data removed]",
      "text/plain": [
       "<Figure size 1260x252 with 5 Axes>"
      ]
     },
     "metadata": {
      "needs_background": "light"
     },
     "output_type": "display_data"
    }
   ],
   "source": [
    "# Combine into one dataframe for plotting\n",
    "tanimoto_comparison_df_dcca = pd.concat([tanimoto_dcca_10, tanimoto_dcca_50, tanimoto_dcca_100, tanimoto_dcca_200, tanimoto_dcca_300], \n",
    "                                      keys=['dcca 10', 'dcca 50', 'dcca 100', 'dcca 200', 'dcca 300'], names=['embedding']).reset_index(level=[0])\n",
    "make_distribution_plot(tanimoto_comparison_df_dcca, \"\", p)"
   ]
  },
  {
   "cell_type": "markdown",
   "id": "28a6522d",
   "metadata": {},
   "source": [
    "### 2.2 Train in train\n",
    "200 dimensions perform best here."
   ]
  },
  {
   "cell_type": "code",
   "execution_count": 9,
   "id": "dd93ea28",
   "metadata": {},
   "outputs": [
    {
     "data": {
      "application/vnd.jupyter.widget-view+json": {
       "model_id": "a89c3cd5c3fc4976a47a4a5dfea86a90",
       "version_major": 2,
       "version_minor": 0
      },
      "text/plain": [
       "  0%|          | 0/12116 [00:00<?, ?it/s]"
      ]
     },
     "metadata": {},
     "output_type": "display_data"
    },
    {
     "data": {
      "application/vnd.jupyter.widget-view+json": {
       "model_id": "9e5955665d814d7682e12dc6c8f09b8f",
       "version_major": 2,
       "version_minor": 0
      },
      "text/plain": [
       "  0%|          | 0/12116 [00:00<?, ?it/s]"
      ]
     },
     "metadata": {},
     "output_type": "display_data"
    },
    {
     "data": {
      "application/vnd.jupyter.widget-view+json": {
       "model_id": "ee566e1c61354c03a50ca0f3c5cc3fb3",
       "version_major": 2,
       "version_minor": 0
      },
      "text/plain": [
       "  0%|          | 0/12116 [00:00<?, ?it/s]"
      ]
     },
     "metadata": {},
     "output_type": "display_data"
    },
    {
     "data": {
      "application/vnd.jupyter.widget-view+json": {
       "model_id": "f96326366857403bb4a57400cdca13c2",
       "version_major": 2,
       "version_minor": 0
      },
      "text/plain": [
       "  0%|          | 0/12116 [00:00<?, ?it/s]"
      ]
     },
     "metadata": {},
     "output_type": "display_data"
    },
    {
     "data": {
      "application/vnd.jupyter.widget-view+json": {
       "model_id": "f6f932c5893a4919a06f63344fac79c3",
       "version_major": 2,
       "version_minor": 0
      },
      "text/plain": [
       "  0%|          | 0/12116 [00:00<?, ?it/s]"
      ]
     },
     "metadata": {},
     "output_type": "display_data"
    }
   ],
   "source": [
    "tanimoto_cca_10_train = get_tanimoto_train(df_spec2vec_cca_10, nn_list, metric, x='X', y='Y')\n",
    "tanimoto_cca_50_train = get_tanimoto_train(df_spec2vec_cca_50, nn_list, metric, x='X', y='Y')\n",
    "tanimoto_cca_100_train = get_tanimoto_train(df_spec2vec_cca_100, nn_list, metric, x='X', y='Y')\n",
    "tanimoto_cca_200_train = get_tanimoto_train(df_spec2vec_cca_200, nn_list, metric, x='X', y='Y')\n",
    "tanimoto_cca_300_train = get_tanimoto_train(df_spec2vec_cca_300, nn_list, metric, x='X', y='Y')"
   ]
  },
  {
   "cell_type": "code",
   "execution_count": 11,
   "id": "481d005d",
   "metadata": {},
   "outputs": [
    {
     "data": {
      "image/png": "[encoded data removed]",
      "text/plain": [
       "<Figure size 1260x252 with 5 Axes>"
      ]
     },
     "metadata": {
      "needs_background": "light"
     },
     "output_type": "display_data"
    }
   ],
   "source": [
    "tanimoto_comparison_df_train = pd.concat([tanimoto_cca_10_train, tanimoto_cca_50_train, \n",
    "                                          tanimoto_cca_100_train, tanimoto_cca_200_train, tanimoto_cca_300_train], \n",
    "                                      keys=['cca 10', 'cca 50', 'cca 100', 'cca 200', 'cca 300'], names=['embedding']).reset_index(level=[0])\n",
    "make_distribution_plot(tanimoto_comparison_df_train, \"\", p)"
   ]
  }
 ],
 "metadata": {
  "kernelspec": {
   "display_name": "Python 3 (ipykernel)",
   "language": "python",
   "name": "python3"
  },
  "language_info": {
   "codemirror_mode": {
    "name": "ipython",
    "version": 3
   },
   "file_extension": ".py",
   "mimetype": "text/x-python",
   "name": "python",
   "nbconvert_exporter": "python",
   "pygments_lexer": "ipython3",
   "version": "3.8.12"
  }
 },
 "nbformat": 4,
 "nbformat_minor": 5
}
